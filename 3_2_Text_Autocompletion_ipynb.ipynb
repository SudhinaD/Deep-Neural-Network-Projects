{
  "nbformat": 4,
  "nbformat_minor": 0,
  "metadata": {
    "colab": {
      "provenance": []
    },
    "kernelspec": {
      "name": "python3",
      "display_name": "Python 3"
    },
    "language_info": {
      "name": "python"
    },
    "accelerator": "GPU",
    "gpuClass": "standard"
  },
  "cells": [
    {
      "cell_type": "markdown",
      "source": [
        "Name: Sudhina D\n",
        "\n",
        "Batch: R3\n",
        "\n",
        "Date: 10-03-2023\n",
        "\n",
        "Experiment Name: Text Autocompletion\n"
      ],
      "metadata": {
        "id": "duEiL4ZAVR_3"
      }
    },
    {
      "cell_type": "markdown",
      "source": [
        "\n",
        "Contents\n",
        "\n",
        "    Dataset download\n",
        "    Import libraries\n",
        "    Load the dataset\n",
        "    VISUALAZING THE DATASET\n",
        "    DATASET Preprocessing\n",
        "    RNN model\n",
        "    Train the model\n",
        "    Predictiom\n",
        "    Evaluation\n",
        "\n"
      ],
      "metadata": {
        "id": "bxzn293eVlot"
      }
    },
    {
      "cell_type": "markdown",
      "source": [
        "\n",
        "Dataset download\n",
        "\n",
        "The data contains information about the comments made on the articles published in New York Times in Jan-May 2017 and Jan-April 2018. The month-wise data is given in two csv files - one each for the articles on which comments were made and for the comments themselves. The csv files for comments contain over 2 million comments in total with 34 features and those for articles contain 16 features about more than 9,000 articles.\n",
        "\n",
        "LINK - https://www.kaggle.com/datasets/aashita/nyt-comments?resource=download\n"
      ],
      "metadata": {
        "id": "mdB5xLmiV4fG"
      }
    },
    {
      "cell_type": "markdown",
      "source": [
        "import drive"
      ],
      "metadata": {
        "id": "AdM9ipR2WAnh"
      }
    },
    {
      "cell_type": "code",
      "source": [
        "from google.colab import drive\n",
        "\n",
        "drive.mount('/content/gdrive/', force_remount=True)"
      ],
      "metadata": {
        "colab": {
          "base_uri": "https://localhost:8080/"
        },
        "id": "IO3vq3ae7Hrb",
        "outputId": "7b0a2d66-954e-4183-cf20-f0773e001385"
      },
      "execution_count": null,
      "outputs": [
        {
          "output_type": "stream",
          "name": "stdout",
          "text": [
            "Mounted at /content/gdrive/\n"
          ]
        }
      ]
    },
    {
      "cell_type": "markdown",
      "source": [
        "Import libraries"
      ],
      "metadata": {
        "id": "aB3UqzfmV-pi"
      }
    },
    {
      "cell_type": "code",
      "source": [
        "# This Python 3 environment comes with many helpful analytics libraries installed\n",
        "# It is defined by the kaggle/python Docker image: https://github.com/kaggle/docker-python\n",
        "# For example, here's several helpful packages to load\n",
        "\n",
        "import numpy as np # linear algebra\n",
        "import pandas as pd # data processing, CSV file I/O (e.g. pd.read_csv)\n",
        "\n",
        "# Input data files are available in the read-only \"../input/\" directory\n",
        "# For example, running this (by clicking run or pressing Shift+Enter) will list all files under the input directory\n",
        "\n",
        "import os\n",
        "for dirname, _, filenames in os.walk('/kaggle/input'):\n",
        "    for filename in filenames:\n",
        "        print(os.path.join(dirname, filename))"
      ],
      "metadata": {
        "id": "NoobVLWq2R61"
      },
      "execution_count": null,
      "outputs": []
    },
    {
      "cell_type": "code",
      "source": [
        "!pip install matplotlib-venn\n",
        "!apt-get -qq install -y libfluidsynth1\n",
        "!apt-get -qq install -y libarchive-dev && pip install -U libarchive\n",
        "!apt-get -qq install -y graphviz && pip install pydot\n",
        "!pip install cartopy\n",
        "import cartopy\n",
        "import pydot\n",
        "import libarchive\n",
        "# keras module for building LSTM \n",
        "from tensorflow.keras.preprocessing.sequence import pad_sequences\n",
        "from keras.layers import Embedding, LSTM, Dense, Dropout\n",
        "from keras.preprocessing.text import Tokenizer\n",
        "from keras.callbacks import EarlyStopping\n",
        "from keras.models import Sequential\n",
        "import keras.utils as ku \n",
        "\n",
        "# set seeds for reproducability\n",
        "import string, os \n",
        "\n",
        "import warnings\n",
        "warnings.filterwarnings(\"ignore\")"
      ],
      "metadata": {
        "id": "-e27JEA_40Jo"
      },
      "execution_count": null,
      "outputs": []
    },
    {
      "cell_type": "markdown",
      "source": [
        "\n",
        "Load the dataset  "
      ],
      "metadata": {
        "id": "NA9AwdcRWHwR"
      }
    },
    {
      "cell_type": "markdown",
      "source": [
        "VISUALAZING THE DATASET"
      ],
      "metadata": {
        "id": "htGOOq1yWbyR"
      }
    },
    {
      "cell_type": "code",
      "source": [
        "# Checking out one dataset\n",
        "\n",
        "testing_ar = pd.read_csv('/content/gdrive/MyDrive/DNNSP LAB/text.csv/ArticlesApril2017.csv')\n",
        "testing_ar.head()"
      ],
      "metadata": {
        "colab": {
          "base_uri": "https://localhost:8080/",
          "height": 670
        },
        "id": "kM3zs-ci7CnI",
        "outputId": "fa661c17-9675-449e-af68-d72eb1c0a98d"
      },
      "execution_count": null,
      "outputs": [
        {
          "output_type": "execute_result",
          "data": {
            "text/plain": [
              "  abstract                 articleID  articleWordCount  \\\n",
              "0      NaN  58def1347c459f24986d7c80               716   \n",
              "1      NaN  58def3237c459f24986d7c84               823   \n",
              "2      NaN  58def9f57c459f24986d7c90               575   \n",
              "3      NaN  58defd317c459f24986d7c95              1374   \n",
              "4      NaN  58df09b77c459f24986d7ca7               708   \n",
              "\n",
              "                                byline documentType  \\\n",
              "0  By STEPHEN HILTNER and SUSAN LEHMAN      article   \n",
              "1                      By GAIL COLLINS      article   \n",
              "2               By THE EDITORIAL BOARD      article   \n",
              "3                    By MICHAEL POWELL      article   \n",
              "4                         By DEB AMLEN      article   \n",
              "\n",
              "                                            headline  \\\n",
              "0  Finding an Expansive View  of a Forgotten Peop...   \n",
              "1                  And Now,  the Dreaded Trump Curse   \n",
              "2              Venezuela’s Descent Into Dictatorship   \n",
              "3              Stain Permeates Basketball Blue Blood   \n",
              "4                          Taking Things for Granted   \n",
              "\n",
              "                                            keywords  multimedia    newDesk  \\\n",
              "0  ['Photography', 'New York Times', 'Niger', 'Fe...           3    Insider   \n",
              "1  ['United States Politics and Government', 'Tru...           3       OpEd   \n",
              "2  ['Venezuela', 'Politics and Government', 'Madu...           3  Editorial   \n",
              "3  ['Basketball (College)', 'University of North ...           3     Sports   \n",
              "4                              ['Crossword Puzzles']           3      Games   \n",
              "\n",
              "   printPage              pubDate         sectionName  \\\n",
              "0          2  2017-04-01 00:15:41             Unknown   \n",
              "1         23  2017-04-01 00:23:58             Unknown   \n",
              "2         22  2017-04-01 00:53:06             Unknown   \n",
              "3          1  2017-04-01 01:06:52  College Basketball   \n",
              "4          0  2017-04-01 02:00:14             Unknown   \n",
              "\n",
              "                                             snippet              source  \\\n",
              "0  One of the largest photo displays in Times his...  The New York Times   \n",
              "1                  Meet the gang from under the bus.  The New York Times   \n",
              "2  A court ruling annulling the legislature’s aut...  The New York Times   \n",
              "3  For two decades, until 2013, North Carolina en...  The New York Times   \n",
              "4  In which Howard Barkin and Will Shortz teach u...  The New York Times   \n",
              "\n",
              "  typeOfMaterial                                             webURL  \n",
              "0           News  https://www.nytimes.com/2017/03/31/insider/nig...  \n",
              "1          Op-Ed  https://www.nytimes.com/2017/03/31/opinion/and...  \n",
              "2      Editorial  https://www.nytimes.com/2017/03/31/opinion/ven...  \n",
              "3           News  https://www.nytimes.com/2017/03/31/sports/ncaa...  \n",
              "4           News  https://www.nytimes.com/2017/03/31/crosswords/...  "
            ],
            "text/html": [
              "\n",
              "  <div id=\"df-9a585d6c-3ce0-4428-8b59-2aba984002d2\">\n",
              "    <div class=\"colab-df-container\">\n",
              "      <div>\n",
              "<style scoped>\n",
              "    .dataframe tbody tr th:only-of-type {\n",
              "        vertical-align: middle;\n",
              "    }\n",
              "\n",
              "    .dataframe tbody tr th {\n",
              "        vertical-align: top;\n",
              "    }\n",
              "\n",
              "    .dataframe thead th {\n",
              "        text-align: right;\n",
              "    }\n",
              "</style>\n",
              "<table border=\"1\" class=\"dataframe\">\n",
              "  <thead>\n",
              "    <tr style=\"text-align: right;\">\n",
              "      <th></th>\n",
              "      <th>abstract</th>\n",
              "      <th>articleID</th>\n",
              "      <th>articleWordCount</th>\n",
              "      <th>byline</th>\n",
              "      <th>documentType</th>\n",
              "      <th>headline</th>\n",
              "      <th>keywords</th>\n",
              "      <th>multimedia</th>\n",
              "      <th>newDesk</th>\n",
              "      <th>printPage</th>\n",
              "      <th>pubDate</th>\n",
              "      <th>sectionName</th>\n",
              "      <th>snippet</th>\n",
              "      <th>source</th>\n",
              "      <th>typeOfMaterial</th>\n",
              "      <th>webURL</th>\n",
              "    </tr>\n",
              "  </thead>\n",
              "  <tbody>\n",
              "    <tr>\n",
              "      <th>0</th>\n",
              "      <td>NaN</td>\n",
              "      <td>58def1347c459f24986d7c80</td>\n",
              "      <td>716</td>\n",
              "      <td>By STEPHEN HILTNER and SUSAN LEHMAN</td>\n",
              "      <td>article</td>\n",
              "      <td>Finding an Expansive View  of a Forgotten Peop...</td>\n",
              "      <td>['Photography', 'New York Times', 'Niger', 'Fe...</td>\n",
              "      <td>3</td>\n",
              "      <td>Insider</td>\n",
              "      <td>2</td>\n",
              "      <td>2017-04-01 00:15:41</td>\n",
              "      <td>Unknown</td>\n",
              "      <td>One of the largest photo displays in Times his...</td>\n",
              "      <td>The New York Times</td>\n",
              "      <td>News</td>\n",
              "      <td>https://www.nytimes.com/2017/03/31/insider/nig...</td>\n",
              "    </tr>\n",
              "    <tr>\n",
              "      <th>1</th>\n",
              "      <td>NaN</td>\n",
              "      <td>58def3237c459f24986d7c84</td>\n",
              "      <td>823</td>\n",
              "      <td>By GAIL COLLINS</td>\n",
              "      <td>article</td>\n",
              "      <td>And Now,  the Dreaded Trump Curse</td>\n",
              "      <td>['United States Politics and Government', 'Tru...</td>\n",
              "      <td>3</td>\n",
              "      <td>OpEd</td>\n",
              "      <td>23</td>\n",
              "      <td>2017-04-01 00:23:58</td>\n",
              "      <td>Unknown</td>\n",
              "      <td>Meet the gang from under the bus.</td>\n",
              "      <td>The New York Times</td>\n",
              "      <td>Op-Ed</td>\n",
              "      <td>https://www.nytimes.com/2017/03/31/opinion/and...</td>\n",
              "    </tr>\n",
              "    <tr>\n",
              "      <th>2</th>\n",
              "      <td>NaN</td>\n",
              "      <td>58def9f57c459f24986d7c90</td>\n",
              "      <td>575</td>\n",
              "      <td>By THE EDITORIAL BOARD</td>\n",
              "      <td>article</td>\n",
              "      <td>Venezuela’s Descent Into Dictatorship</td>\n",
              "      <td>['Venezuela', 'Politics and Government', 'Madu...</td>\n",
              "      <td>3</td>\n",
              "      <td>Editorial</td>\n",
              "      <td>22</td>\n",
              "      <td>2017-04-01 00:53:06</td>\n",
              "      <td>Unknown</td>\n",
              "      <td>A court ruling annulling the legislature’s aut...</td>\n",
              "      <td>The New York Times</td>\n",
              "      <td>Editorial</td>\n",
              "      <td>https://www.nytimes.com/2017/03/31/opinion/ven...</td>\n",
              "    </tr>\n",
              "    <tr>\n",
              "      <th>3</th>\n",
              "      <td>NaN</td>\n",
              "      <td>58defd317c459f24986d7c95</td>\n",
              "      <td>1374</td>\n",
              "      <td>By MICHAEL POWELL</td>\n",
              "      <td>article</td>\n",
              "      <td>Stain Permeates Basketball Blue Blood</td>\n",
              "      <td>['Basketball (College)', 'University of North ...</td>\n",
              "      <td>3</td>\n",
              "      <td>Sports</td>\n",
              "      <td>1</td>\n",
              "      <td>2017-04-01 01:06:52</td>\n",
              "      <td>College Basketball</td>\n",
              "      <td>For two decades, until 2013, North Carolina en...</td>\n",
              "      <td>The New York Times</td>\n",
              "      <td>News</td>\n",
              "      <td>https://www.nytimes.com/2017/03/31/sports/ncaa...</td>\n",
              "    </tr>\n",
              "    <tr>\n",
              "      <th>4</th>\n",
              "      <td>NaN</td>\n",
              "      <td>58df09b77c459f24986d7ca7</td>\n",
              "      <td>708</td>\n",
              "      <td>By DEB AMLEN</td>\n",
              "      <td>article</td>\n",
              "      <td>Taking Things for Granted</td>\n",
              "      <td>['Crossword Puzzles']</td>\n",
              "      <td>3</td>\n",
              "      <td>Games</td>\n",
              "      <td>0</td>\n",
              "      <td>2017-04-01 02:00:14</td>\n",
              "      <td>Unknown</td>\n",
              "      <td>In which Howard Barkin and Will Shortz teach u...</td>\n",
              "      <td>The New York Times</td>\n",
              "      <td>News</td>\n",
              "      <td>https://www.nytimes.com/2017/03/31/crosswords/...</td>\n",
              "    </tr>\n",
              "  </tbody>\n",
              "</table>\n",
              "</div>\n",
              "      <button class=\"colab-df-convert\" onclick=\"convertToInteractive('df-9a585d6c-3ce0-4428-8b59-2aba984002d2')\"\n",
              "              title=\"Convert this dataframe to an interactive table.\"\n",
              "              style=\"display:none;\">\n",
              "        \n",
              "  <svg xmlns=\"http://www.w3.org/2000/svg\" height=\"24px\"viewBox=\"0 0 24 24\"\n",
              "       width=\"24px\">\n",
              "    <path d=\"M0 0h24v24H0V0z\" fill=\"none\"/>\n",
              "    <path d=\"M18.56 5.44l.94 2.06.94-2.06 2.06-.94-2.06-.94-.94-2.06-.94 2.06-2.06.94zm-11 1L8.5 8.5l.94-2.06 2.06-.94-2.06-.94L8.5 2.5l-.94 2.06-2.06.94zm10 10l.94 2.06.94-2.06 2.06-.94-2.06-.94-.94-2.06-.94 2.06-2.06.94z\"/><path d=\"M17.41 7.96l-1.37-1.37c-.4-.4-.92-.59-1.43-.59-.52 0-1.04.2-1.43.59L10.3 9.45l-7.72 7.72c-.78.78-.78 2.05 0 2.83L4 21.41c.39.39.9.59 1.41.59.51 0 1.02-.2 1.41-.59l7.78-7.78 2.81-2.81c.8-.78.8-2.07 0-2.86zM5.41 20L4 18.59l7.72-7.72 1.47 1.35L5.41 20z\"/>\n",
              "  </svg>\n",
              "      </button>\n",
              "      \n",
              "  <style>\n",
              "    .colab-df-container {\n",
              "      display:flex;\n",
              "      flex-wrap:wrap;\n",
              "      gap: 12px;\n",
              "    }\n",
              "\n",
              "    .colab-df-convert {\n",
              "      background-color: #E8F0FE;\n",
              "      border: none;\n",
              "      border-radius: 50%;\n",
              "      cursor: pointer;\n",
              "      display: none;\n",
              "      fill: #1967D2;\n",
              "      height: 32px;\n",
              "      padding: 0 0 0 0;\n",
              "      width: 32px;\n",
              "    }\n",
              "\n",
              "    .colab-df-convert:hover {\n",
              "      background-color: #E2EBFA;\n",
              "      box-shadow: 0px 1px 2px rgba(60, 64, 67, 0.3), 0px 1px 3px 1px rgba(60, 64, 67, 0.15);\n",
              "      fill: #174EA6;\n",
              "    }\n",
              "\n",
              "    [theme=dark] .colab-df-convert {\n",
              "      background-color: #3B4455;\n",
              "      fill: #D2E3FC;\n",
              "    }\n",
              "\n",
              "    [theme=dark] .colab-df-convert:hover {\n",
              "      background-color: #434B5C;\n",
              "      box-shadow: 0px 1px 3px 1px rgba(0, 0, 0, 0.15);\n",
              "      filter: drop-shadow(0px 1px 2px rgba(0, 0, 0, 0.3));\n",
              "      fill: #FFFFFF;\n",
              "    }\n",
              "  </style>\n",
              "\n",
              "      <script>\n",
              "        const buttonEl =\n",
              "          document.querySelector('#df-9a585d6c-3ce0-4428-8b59-2aba984002d2 button.colab-df-convert');\n",
              "        buttonEl.style.display =\n",
              "          google.colab.kernel.accessAllowed ? 'block' : 'none';\n",
              "\n",
              "        async function convertToInteractive(key) {\n",
              "          const element = document.querySelector('#df-9a585d6c-3ce0-4428-8b59-2aba984002d2');\n",
              "          const dataTable =\n",
              "            await google.colab.kernel.invokeFunction('convertToInteractive',\n",
              "                                                     [key], {});\n",
              "          if (!dataTable) return;\n",
              "\n",
              "          const docLinkHtml = 'Like what you see? Visit the ' +\n",
              "            '<a target=\"_blank\" href=https://colab.research.google.com/notebooks/data_table.ipynb>data table notebook</a>'\n",
              "            + ' to learn more about interactive tables.';\n",
              "          element.innerHTML = '';\n",
              "          dataTable['output_type'] = 'display_data';\n",
              "          await google.colab.output.renderOutput(dataTable, element);\n",
              "          const docLink = document.createElement('div');\n",
              "          docLink.innerHTML = docLinkHtml;\n",
              "          element.appendChild(docLink);\n",
              "        }\n",
              "      </script>\n",
              "    </div>\n",
              "  </div>\n",
              "  "
            ]
          },
          "metadata": {},
          "execution_count": 4
        }
      ]
    },
    {
      "cell_type": "code",
      "source": [
        "# Checking out the comments\n",
        "testing_cm = pd.read_csv('/content/gdrive/MyDrive/DNNSP LAB/text.csv/CommentsApril2017.csv')\n",
        "testing_cm.head()"
      ],
      "metadata": {
        "colab": {
          "base_uri": "https://localhost:8080/",
          "height": 664
        },
        "id": "kj7Mdttz48kx",
        "outputId": "7f69cc49-c829-458d-cb72-6e5f14acf627"
      },
      "execution_count": null,
      "outputs": [
        {
          "output_type": "execute_result",
          "data": {
            "text/plain": [
              "   approveDate                                        commentBody   commentID  \\\n",
              "0   1491245186  This project makes me happy to be a 30+ year T...  22022598.0   \n",
              "1   1491188619  Stunning photos and reportage. Infuriating tha...  22017350.0   \n",
              "2   1491188617  Brilliant work from conception to execution. I...  22017334.0   \n",
              "3   1491167820  NYT reporters should provide a contributor's l...  22015913.0   \n",
              "4   1491167815     Could only have been done in print. Stunning.   22015466.0   \n",
              "\n",
              "   commentSequence commentTitle commentType    createDate  depth  \\\n",
              "0         22022598        <br/>     comment  1.491237e+09      1   \n",
              "1         22017350          NaN     comment  1.491180e+09      1   \n",
              "2         22017334        <br/>     comment  1.491179e+09      1   \n",
              "3         22015913        <br/>     comment  1.491150e+09      1   \n",
              "4         22015466        <br/>     comment  1.491147e+09      1   \n",
              "\n",
              "   editorsSelection  parentID  ...     userLocation userTitle userURL  \\\n",
              "0             False       0.0  ...    Riverside, CA       NaN     NaN   \n",
              "1             False       0.0  ...            <br/>       NaN     NaN   \n",
              "2             False       0.0  ...       Raleigh NC       NaN     NaN   \n",
              "3             False       0.0  ...    Missouri, USA       NaN     NaN   \n",
              "4             False       0.0  ...  Tucson, Arizona       NaN     NaN   \n",
              "\n",
              "   inReplyTo                 articleID  sectionName  newDesk  \\\n",
              "0          0  58def1347c459f24986d7c80      Unknown  Insider   \n",
              "1          0  58def1347c459f24986d7c80      Unknown  Insider   \n",
              "2          0  58def1347c459f24986d7c80      Unknown  Insider   \n",
              "3          0  58def1347c459f24986d7c80      Unknown  Insider   \n",
              "4          0  58def1347c459f24986d7c80      Unknown  Insider   \n",
              "\n",
              "   articleWordCount printPage  typeOfMaterial  \n",
              "0             716.0         2            News  \n",
              "1             716.0         2            News  \n",
              "2             716.0         2            News  \n",
              "3             716.0         2            News  \n",
              "4             716.0         2            News  \n",
              "\n",
              "[5 rows x 34 columns]"
            ],
            "text/html": [
              "\n",
              "  <div id=\"df-ccbfb4b7-3be3-4703-a9f7-84231a63d856\">\n",
              "    <div class=\"colab-df-container\">\n",
              "      <div>\n",
              "<style scoped>\n",
              "    .dataframe tbody tr th:only-of-type {\n",
              "        vertical-align: middle;\n",
              "    }\n",
              "\n",
              "    .dataframe tbody tr th {\n",
              "        vertical-align: top;\n",
              "    }\n",
              "\n",
              "    .dataframe thead th {\n",
              "        text-align: right;\n",
              "    }\n",
              "</style>\n",
              "<table border=\"1\" class=\"dataframe\">\n",
              "  <thead>\n",
              "    <tr style=\"text-align: right;\">\n",
              "      <th></th>\n",
              "      <th>approveDate</th>\n",
              "      <th>commentBody</th>\n",
              "      <th>commentID</th>\n",
              "      <th>commentSequence</th>\n",
              "      <th>commentTitle</th>\n",
              "      <th>commentType</th>\n",
              "      <th>createDate</th>\n",
              "      <th>depth</th>\n",
              "      <th>editorsSelection</th>\n",
              "      <th>parentID</th>\n",
              "      <th>...</th>\n",
              "      <th>userLocation</th>\n",
              "      <th>userTitle</th>\n",
              "      <th>userURL</th>\n",
              "      <th>inReplyTo</th>\n",
              "      <th>articleID</th>\n",
              "      <th>sectionName</th>\n",
              "      <th>newDesk</th>\n",
              "      <th>articleWordCount</th>\n",
              "      <th>printPage</th>\n",
              "      <th>typeOfMaterial</th>\n",
              "    </tr>\n",
              "  </thead>\n",
              "  <tbody>\n",
              "    <tr>\n",
              "      <th>0</th>\n",
              "      <td>1491245186</td>\n",
              "      <td>This project makes me happy to be a 30+ year T...</td>\n",
              "      <td>22022598.0</td>\n",
              "      <td>22022598</td>\n",
              "      <td>&lt;br/&gt;</td>\n",
              "      <td>comment</td>\n",
              "      <td>1.491237e+09</td>\n",
              "      <td>1</td>\n",
              "      <td>False</td>\n",
              "      <td>0.0</td>\n",
              "      <td>...</td>\n",
              "      <td>Riverside, CA</td>\n",
              "      <td>NaN</td>\n",
              "      <td>NaN</td>\n",
              "      <td>0</td>\n",
              "      <td>58def1347c459f24986d7c80</td>\n",
              "      <td>Unknown</td>\n",
              "      <td>Insider</td>\n",
              "      <td>716.0</td>\n",
              "      <td>2</td>\n",
              "      <td>News</td>\n",
              "    </tr>\n",
              "    <tr>\n",
              "      <th>1</th>\n",
              "      <td>1491188619</td>\n",
              "      <td>Stunning photos and reportage. Infuriating tha...</td>\n",
              "      <td>22017350.0</td>\n",
              "      <td>22017350</td>\n",
              "      <td>NaN</td>\n",
              "      <td>comment</td>\n",
              "      <td>1.491180e+09</td>\n",
              "      <td>1</td>\n",
              "      <td>False</td>\n",
              "      <td>0.0</td>\n",
              "      <td>...</td>\n",
              "      <td>&lt;br/&gt;</td>\n",
              "      <td>NaN</td>\n",
              "      <td>NaN</td>\n",
              "      <td>0</td>\n",
              "      <td>58def1347c459f24986d7c80</td>\n",
              "      <td>Unknown</td>\n",
              "      <td>Insider</td>\n",
              "      <td>716.0</td>\n",
              "      <td>2</td>\n",
              "      <td>News</td>\n",
              "    </tr>\n",
              "    <tr>\n",
              "      <th>2</th>\n",
              "      <td>1491188617</td>\n",
              "      <td>Brilliant work from conception to execution. I...</td>\n",
              "      <td>22017334.0</td>\n",
              "      <td>22017334</td>\n",
              "      <td>&lt;br/&gt;</td>\n",
              "      <td>comment</td>\n",
              "      <td>1.491179e+09</td>\n",
              "      <td>1</td>\n",
              "      <td>False</td>\n",
              "      <td>0.0</td>\n",
              "      <td>...</td>\n",
              "      <td>Raleigh NC</td>\n",
              "      <td>NaN</td>\n",
              "      <td>NaN</td>\n",
              "      <td>0</td>\n",
              "      <td>58def1347c459f24986d7c80</td>\n",
              "      <td>Unknown</td>\n",
              "      <td>Insider</td>\n",
              "      <td>716.0</td>\n",
              "      <td>2</td>\n",
              "      <td>News</td>\n",
              "    </tr>\n",
              "    <tr>\n",
              "      <th>3</th>\n",
              "      <td>1491167820</td>\n",
              "      <td>NYT reporters should provide a contributor's l...</td>\n",
              "      <td>22015913.0</td>\n",
              "      <td>22015913</td>\n",
              "      <td>&lt;br/&gt;</td>\n",
              "      <td>comment</td>\n",
              "      <td>1.491150e+09</td>\n",
              "      <td>1</td>\n",
              "      <td>False</td>\n",
              "      <td>0.0</td>\n",
              "      <td>...</td>\n",
              "      <td>Missouri, USA</td>\n",
              "      <td>NaN</td>\n",
              "      <td>NaN</td>\n",
              "      <td>0</td>\n",
              "      <td>58def1347c459f24986d7c80</td>\n",
              "      <td>Unknown</td>\n",
              "      <td>Insider</td>\n",
              "      <td>716.0</td>\n",
              "      <td>2</td>\n",
              "      <td>News</td>\n",
              "    </tr>\n",
              "    <tr>\n",
              "      <th>4</th>\n",
              "      <td>1491167815</td>\n",
              "      <td>Could only have been done in print. Stunning.</td>\n",
              "      <td>22015466.0</td>\n",
              "      <td>22015466</td>\n",
              "      <td>&lt;br/&gt;</td>\n",
              "      <td>comment</td>\n",
              "      <td>1.491147e+09</td>\n",
              "      <td>1</td>\n",
              "      <td>False</td>\n",
              "      <td>0.0</td>\n",
              "      <td>...</td>\n",
              "      <td>Tucson, Arizona</td>\n",
              "      <td>NaN</td>\n",
              "      <td>NaN</td>\n",
              "      <td>0</td>\n",
              "      <td>58def1347c459f24986d7c80</td>\n",
              "      <td>Unknown</td>\n",
              "      <td>Insider</td>\n",
              "      <td>716.0</td>\n",
              "      <td>2</td>\n",
              "      <td>News</td>\n",
              "    </tr>\n",
              "  </tbody>\n",
              "</table>\n",
              "<p>5 rows × 34 columns</p>\n",
              "</div>\n",
              "      <button class=\"colab-df-convert\" onclick=\"convertToInteractive('df-ccbfb4b7-3be3-4703-a9f7-84231a63d856')\"\n",
              "              title=\"Convert this dataframe to an interactive table.\"\n",
              "              style=\"display:none;\">\n",
              "        \n",
              "  <svg xmlns=\"http://www.w3.org/2000/svg\" height=\"24px\"viewBox=\"0 0 24 24\"\n",
              "       width=\"24px\">\n",
              "    <path d=\"M0 0h24v24H0V0z\" fill=\"none\"/>\n",
              "    <path d=\"M18.56 5.44l.94 2.06.94-2.06 2.06-.94-2.06-.94-.94-2.06-.94 2.06-2.06.94zm-11 1L8.5 8.5l.94-2.06 2.06-.94-2.06-.94L8.5 2.5l-.94 2.06-2.06.94zm10 10l.94 2.06.94-2.06 2.06-.94-2.06-.94-.94-2.06-.94 2.06-2.06.94z\"/><path d=\"M17.41 7.96l-1.37-1.37c-.4-.4-.92-.59-1.43-.59-.52 0-1.04.2-1.43.59L10.3 9.45l-7.72 7.72c-.78.78-.78 2.05 0 2.83L4 21.41c.39.39.9.59 1.41.59.51 0 1.02-.2 1.41-.59l7.78-7.78 2.81-2.81c.8-.78.8-2.07 0-2.86zM5.41 20L4 18.59l7.72-7.72 1.47 1.35L5.41 20z\"/>\n",
              "  </svg>\n",
              "      </button>\n",
              "      \n",
              "  <style>\n",
              "    .colab-df-container {\n",
              "      display:flex;\n",
              "      flex-wrap:wrap;\n",
              "      gap: 12px;\n",
              "    }\n",
              "\n",
              "    .colab-df-convert {\n",
              "      background-color: #E8F0FE;\n",
              "      border: none;\n",
              "      border-radius: 50%;\n",
              "      cursor: pointer;\n",
              "      display: none;\n",
              "      fill: #1967D2;\n",
              "      height: 32px;\n",
              "      padding: 0 0 0 0;\n",
              "      width: 32px;\n",
              "    }\n",
              "\n",
              "    .colab-df-convert:hover {\n",
              "      background-color: #E2EBFA;\n",
              "      box-shadow: 0px 1px 2px rgba(60, 64, 67, 0.3), 0px 1px 3px 1px rgba(60, 64, 67, 0.15);\n",
              "      fill: #174EA6;\n",
              "    }\n",
              "\n",
              "    [theme=dark] .colab-df-convert {\n",
              "      background-color: #3B4455;\n",
              "      fill: #D2E3FC;\n",
              "    }\n",
              "\n",
              "    [theme=dark] .colab-df-convert:hover {\n",
              "      background-color: #434B5C;\n",
              "      box-shadow: 0px 1px 3px 1px rgba(0, 0, 0, 0.15);\n",
              "      filter: drop-shadow(0px 1px 2px rgba(0, 0, 0, 0.3));\n",
              "      fill: #FFFFFF;\n",
              "    }\n",
              "  </style>\n",
              "\n",
              "      <script>\n",
              "        const buttonEl =\n",
              "          document.querySelector('#df-ccbfb4b7-3be3-4703-a9f7-84231a63d856 button.colab-df-convert');\n",
              "        buttonEl.style.display =\n",
              "          google.colab.kernel.accessAllowed ? 'block' : 'none';\n",
              "\n",
              "        async function convertToInteractive(key) {\n",
              "          const element = document.querySelector('#df-ccbfb4b7-3be3-4703-a9f7-84231a63d856');\n",
              "          const dataTable =\n",
              "            await google.colab.kernel.invokeFunction('convertToInteractive',\n",
              "                                                     [key], {});\n",
              "          if (!dataTable) return;\n",
              "\n",
              "          const docLinkHtml = 'Like what you see? Visit the ' +\n",
              "            '<a target=\"_blank\" href=https://colab.research.google.com/notebooks/data_table.ipynb>data table notebook</a>'\n",
              "            + ' to learn more about interactive tables.';\n",
              "          element.innerHTML = '';\n",
              "          dataTable['output_type'] = 'display_data';\n",
              "          await google.colab.output.renderOutput(dataTable, element);\n",
              "          const docLink = document.createElement('div');\n",
              "          docLink.innerHTML = docLinkHtml;\n",
              "          element.appendChild(docLink);\n",
              "        }\n",
              "      </script>\n",
              "    </div>\n",
              "  </div>\n",
              "  "
            ]
          },
          "metadata": {},
          "execution_count": 5
        }
      ]
    },
    {
      "cell_type": "code",
      "source": [
        "# File path for first file:\n",
        "# ../input/nyt-comments/ArticlesApril2017.csv\n",
        "# Some of the headlines have - Unknown as a null value\n",
        "# We will extract all headlines\n",
        "working_dir = '/content/gdrive/MyDrive/DNNSP LAB/text.csv/'\n",
        "headlines = []\n",
        "\n",
        "for filename in os.listdir(working_dir):\n",
        "    if 'Articles' in filename:\n",
        "        article_df = pd.read_csv(working_dir + filename)\n",
        "        headlines.extend(list(article_df.headline.values))\n",
        "\n",
        "headlines = [x for x in headlines if x!=\"Unknown\"]\n"
      ],
      "metadata": {
        "id": "Y9vGEGyE-_kM"
      },
      "execution_count": null,
      "outputs": []
    },
    {
      "cell_type": "code",
      "source": [
        "len(headlines)"
      ],
      "metadata": {
        "colab": {
          "base_uri": "https://localhost:8080/"
        },
        "id": "kU8Ygd47_Fd9",
        "outputId": "936abb94-236a-45df-9229-49abaa64d3f4"
      },
      "execution_count": null,
      "outputs": [
        {
          "output_type": "execute_result",
          "data": {
            "text/plain": [
              "8603"
            ]
          },
          "metadata": {},
          "execution_count": 7
        }
      ]
    },
    {
      "cell_type": "markdown",
      "source": [
        "Text cleaning"
      ],
      "metadata": {
        "id": "giy6mwlVBHso"
      }
    },
    {
      "cell_type": "code",
      "source": [
        "sample = headlines[:10]\n",
        "sample"
      ],
      "metadata": {
        "colab": {
          "base_uri": "https://localhost:8080/"
        },
        "id": "Q7vSZ10S_Ihg",
        "outputId": "9a025e73-9719-4197-970c-1bd033e3f670"
      },
      "execution_count": null,
      "outputs": [
        {
          "output_type": "execute_result",
          "data": {
            "text/plain": [
              "['Finding an Expansive View  of a Forgotten People in Niger',\n",
              " 'And Now,  the Dreaded Trump Curse',\n",
              " 'Venezuela’s Descent Into Dictatorship',\n",
              " 'Stain Permeates Basketball Blue Blood',\n",
              " 'Taking Things for Granted',\n",
              " 'The Caged Beast Awakens',\n",
              " 'An Ever-Unfolding Story',\n",
              " 'O’Reilly Thrives as Settlements Add Up',\n",
              " 'Mouse Infestation',\n",
              " 'Divide in G.O.P. Now Threatens Trump Tax Plan']"
            ]
          },
          "metadata": {},
          "execution_count": 8
        }
      ]
    },
    {
      "cell_type": "code",
      "source": [
        "# Basic iteration over each headline\n",
        "[x for x in sample]"
      ],
      "metadata": {
        "colab": {
          "base_uri": "https://localhost:8080/"
        },
        "id": "sE-jG3lK_Lhe",
        "outputId": "e8caa0de-0c78-49a4-fc87-7aa2c45600fd"
      },
      "execution_count": null,
      "outputs": [
        {
          "output_type": "execute_result",
          "data": {
            "text/plain": [
              "['Finding an Expansive View  of a Forgotten People in Niger',\n",
              " 'And Now,  the Dreaded Trump Curse',\n",
              " 'Venezuela’s Descent Into Dictatorship',\n",
              " 'Stain Permeates Basketball Blue Blood',\n",
              " 'Taking Things for Granted',\n",
              " 'The Caged Beast Awakens',\n",
              " 'An Ever-Unfolding Story',\n",
              " 'O’Reilly Thrives as Settlements Add Up',\n",
              " 'Mouse Infestation',\n",
              " 'Divide in G.O.P. Now Threatens Trump Tax Plan']"
            ]
          },
          "metadata": {},
          "execution_count": 9
        }
      ]
    },
    {
      "cell_type": "code",
      "source": [
        "# Nested comprehesion for iteration over each element\n",
        "[y for x in sample[0] for y in x]"
      ],
      "metadata": {
        "colab": {
          "base_uri": "https://localhost:8080/"
        },
        "id": "llcNaoYC_OsO",
        "outputId": "db72fd46-6cb2-4694-a3f0-2bd04923f259"
      },
      "execution_count": null,
      "outputs": [
        {
          "output_type": "execute_result",
          "data": {
            "text/plain": [
              "['F',\n",
              " 'i',\n",
              " 'n',\n",
              " 'd',\n",
              " 'i',\n",
              " 'n',\n",
              " 'g',\n",
              " ' ',\n",
              " 'a',\n",
              " 'n',\n",
              " ' ',\n",
              " 'E',\n",
              " 'x',\n",
              " 'p',\n",
              " 'a',\n",
              " 'n',\n",
              " 's',\n",
              " 'i',\n",
              " 'v',\n",
              " 'e',\n",
              " ' ',\n",
              " 'V',\n",
              " 'i',\n",
              " 'e',\n",
              " 'w',\n",
              " ' ',\n",
              " ' ',\n",
              " 'o',\n",
              " 'f',\n",
              " ' ',\n",
              " 'a',\n",
              " ' ',\n",
              " 'F',\n",
              " 'o',\n",
              " 'r',\n",
              " 'g',\n",
              " 'o',\n",
              " 't',\n",
              " 't',\n",
              " 'e',\n",
              " 'n',\n",
              " ' ',\n",
              " 'P',\n",
              " 'e',\n",
              " 'o',\n",
              " 'p',\n",
              " 'l',\n",
              " 'e',\n",
              " ' ',\n",
              " 'i',\n",
              " 'n',\n",
              " ' ',\n",
              " 'N',\n",
              " 'i',\n",
              " 'g',\n",
              " 'e',\n",
              " 'r']"
            ]
          },
          "metadata": {},
          "execution_count": 10
        }
      ]
    },
    {
      "cell_type": "code",
      "source": [
        "def cleaning(data):\n",
        "    cleaned = \"\".join(x for x in data if x not in string.punctuation).lower()\n",
        "    cleaned = cleaned.encode(\"utf8\").decode(\"ascii\", \"ignore\")\n",
        "    return cleaned\n",
        "\n",
        "cleaned_l = [cleaning(x) for x in headlines]\n",
        "cleaned_l[:10]"
      ],
      "metadata": {
        "colab": {
          "base_uri": "https://localhost:8080/"
        },
        "id": "QgYWPxtS_SHy",
        "outputId": "a3ddf8be-75f1-459e-b577-7826ac52301d"
      },
      "execution_count": null,
      "outputs": [
        {
          "output_type": "execute_result",
          "data": {
            "text/plain": [
              "['finding an expansive view  of a forgotten people in niger',\n",
              " 'and now  the dreaded trump curse',\n",
              " 'venezuelas descent into dictatorship',\n",
              " 'stain permeates basketball blue blood',\n",
              " 'taking things for granted',\n",
              " 'the caged beast awakens',\n",
              " 'an everunfolding story',\n",
              " 'oreilly thrives as settlements add up',\n",
              " 'mouse infestation',\n",
              " 'divide in gop now threatens trump tax plan']"
            ]
          },
          "metadata": {},
          "execution_count": 11
        }
      ]
    },
    {
      "cell_type": "markdown",
      "source": [
        "Tokenization using Keras\n",
        "\n",
        "\n",
        "Dataset preprocessing\n",
        "\n",
        "TOKENIZATION\n",
        "\n",
        "All the words and their indices will be stored in a dictionary which you can access it using tokenizer.word_index. Therefore, you can find the number of the unique words based on the number of elements in this dictionary:\n",
        "\n",
        "num_words = len(tokenizer.word_index) + 1\n",
        "\n",
        "That + 1 is because of reserving padding (i.e. index zero).\n"
      ],
      "metadata": {
        "id": "5xZfpeE3Bvc4"
      }
    },
    {
      "cell_type": "code",
      "source": [
        "sample = cleaned_l[:2]\n",
        "sample"
      ],
      "metadata": {
        "colab": {
          "base_uri": "https://localhost:8080/"
        },
        "id": "4szSXTay_WHJ",
        "outputId": "376f4377-1a08-4daf-aafa-cbf5c39e70cc"
      },
      "execution_count": null,
      "outputs": [
        {
          "output_type": "execute_result",
          "data": {
            "text/plain": [
              "['finding an expansive view  of a forgotten people in niger',\n",
              " 'and now  the dreaded trump curse']"
            ]
          },
          "metadata": {},
          "execution_count": 12
        }
      ]
    },
    {
      "cell_type": "code",
      "source": [
        "tk = Tokenizer()\n",
        "tk.fit_on_texts(sample)\n",
        "tk.word_index"
      ],
      "metadata": {
        "colab": {
          "base_uri": "https://localhost:8080/"
        },
        "id": "BfHIh62y_Y72",
        "outputId": "a9bb4da7-ccfa-43d0-8f57-c141bc0217c6"
      },
      "execution_count": null,
      "outputs": [
        {
          "output_type": "execute_result",
          "data": {
            "text/plain": [
              "{'finding': 1,\n",
              " 'an': 2,\n",
              " 'expansive': 3,\n",
              " 'view': 4,\n",
              " 'of': 5,\n",
              " 'a': 6,\n",
              " 'forgotten': 7,\n",
              " 'people': 8,\n",
              " 'in': 9,\n",
              " 'niger': 10,\n",
              " 'and': 11,\n",
              " 'now': 12,\n",
              " 'the': 13,\n",
              " 'dreaded': 14,\n",
              " 'trump': 15,\n",
              " 'curse': 16}"
            ]
          },
          "metadata": {},
          "execution_count": 13
        }
      ]
    },
    {
      "cell_type": "code",
      "source": [
        "tk.texts_to_sequences([sample[0]])"
      ],
      "metadata": {
        "colab": {
          "base_uri": "https://localhost:8080/"
        },
        "id": "JMwqQlDs_b7M",
        "outputId": "8936ac04-20fe-40f5-c333-a92618eb304e"
      },
      "execution_count": null,
      "outputs": [
        {
          "output_type": "execute_result",
          "data": {
            "text/plain": [
              "[[1, 2, 3, 4, 5, 6, 7, 8, 9, 10]]"
            ]
          },
          "metadata": {},
          "execution_count": 14
        }
      ]
    },
    {
      "cell_type": "markdown",
      "source": [
        "We can see that the word_index does not have 0, which is reserved for padding"
      ],
      "metadata": {
        "id": "ILSgOj1JB9Re"
      }
    },
    {
      "cell_type": "code",
      "source": [
        "tk.word_index"
      ],
      "metadata": {
        "colab": {
          "base_uri": "https://localhost:8080/"
        },
        "id": "LPQg5VH0_fPM",
        "outputId": "208814cb-0f43-4acb-b697-2bf4c40d7cca"
      },
      "execution_count": null,
      "outputs": [
        {
          "output_type": "execute_result",
          "data": {
            "text/plain": [
              "{'finding': 1,\n",
              " 'an': 2,\n",
              " 'expansive': 3,\n",
              " 'view': 4,\n",
              " 'of': 5,\n",
              " 'a': 6,\n",
              " 'forgotten': 7,\n",
              " 'people': 8,\n",
              " 'in': 9,\n",
              " 'niger': 10,\n",
              " 'and': 11,\n",
              " 'now': 12,\n",
              " 'the': 13,\n",
              " 'dreaded': 14,\n",
              " 'trump': 15,\n",
              " 'curse': 16}"
            ]
          },
          "metadata": {},
          "execution_count": 15
        }
      ]
    },
    {
      "cell_type": "code",
      "source": [
        "len(tk.word_index)"
      ],
      "metadata": {
        "colab": {
          "base_uri": "https://localhost:8080/"
        },
        "id": "ggvj6Fyq_iTs",
        "outputId": "3f693409-4ce8-440e-fbc6-a88a649c7eb5"
      },
      "execution_count": null,
      "outputs": [
        {
          "output_type": "execute_result",
          "data": {
            "text/plain": [
              "16"
            ]
          },
          "metadata": {},
          "execution_count": 16
        }
      ]
    },
    {
      "cell_type": "code",
      "source": [
        "sample = cleaned_l[:5]\n",
        "sample"
      ],
      "metadata": {
        "colab": {
          "base_uri": "https://localhost:8080/"
        },
        "id": "UQ6YvK2t_l2h",
        "outputId": "c10ea9dc-cd2f-456f-df59-d6904284b8c1"
      },
      "execution_count": null,
      "outputs": [
        {
          "output_type": "execute_result",
          "data": {
            "text/plain": [
              "['finding an expansive view  of a forgotten people in niger',\n",
              " 'and now  the dreaded trump curse',\n",
              " 'venezuelas descent into dictatorship',\n",
              " 'stain permeates basketball blue blood',\n",
              " 'taking things for granted']"
            ]
          },
          "metadata": {},
          "execution_count": 17
        }
      ]
    },
    {
      "cell_type": "code",
      "source": [
        "for line in sample:\n",
        "    print(line[0])"
      ],
      "metadata": {
        "colab": {
          "base_uri": "https://localhost:8080/"
        },
        "id": "lmXAvWas_pTg",
        "outputId": "4584e1b3-4861-46ef-bd56-33253710307b"
      },
      "execution_count": null,
      "outputs": [
        {
          "output_type": "stream",
          "name": "stdout",
          "text": [
            "f\n",
            "a\n",
            "v\n",
            "s\n",
            "t\n"
          ]
        }
      ]
    },
    {
      "cell_type": "code",
      "source": [
        "tk = Tokenizer()\n",
        "\n",
        "def text_tokens(data):\n",
        "    tk.fit_on_texts(data)\n",
        "    # Our vocabulary size will be +1 due to incorporation of padding, which is treated like another word\n",
        "    total_vocab = len(tk.word_index)+1\n",
        "    input_sequences=[]\n",
        "    \n",
        "    for record in data:\n",
        "        # This will give a 2D array, the first element will be the token list\n",
        "        token_list = tk.texts_to_sequences([record])[0]\n",
        "        for i in range(1, len(token_list)):\n",
        "            # Append first two elements, then 3, then 4, then 5\n",
        "            n_gram = token_list[:i+1]\n",
        "            input_sequences.append(n_gram)\n",
        "    return input_sequences, total_vocab"
      ],
      "metadata": {
        "id": "VR0KvVfs_xC5"
      },
      "execution_count": null,
      "outputs": []
    },
    {
      "cell_type": "code",
      "source": [
        "inp_seq, vocab_size = text_tokens(cleaned_l)\n",
        "inp_seq[:10]"
      ],
      "metadata": {
        "colab": {
          "base_uri": "https://localhost:8080/"
        },
        "id": "Gi1BFWz5_znS",
        "outputId": "df09e7be-9154-4858-c37b-cdc0d898646a"
      },
      "execution_count": null,
      "outputs": [
        {
          "output_type": "execute_result",
          "data": {
            "text/plain": [
              "[[391, 17],\n",
              " [391, 17, 5166],\n",
              " [391, 17, 5166, 523],\n",
              " [391, 17, 5166, 523, 4],\n",
              " [391, 17, 5166, 523, 4, 2],\n",
              " [391, 17, 5166, 523, 4, 2, 1601],\n",
              " [391, 17, 5166, 523, 4, 2, 1601, 134],\n",
              " [391, 17, 5166, 523, 4, 2, 1601, 134, 5],\n",
              " [391, 17, 5166, 523, 4, 2, 1601, 134, 5, 1951],\n",
              " [7, 57]]"
            ]
          },
          "metadata": {},
          "execution_count": 20
        }
      ]
    },
    {
      "cell_type": "markdown",
      "source": [
        "Padding sequences to obtain complete data\n",
        "\n",
        "\n",
        "Padding sequence\n",
        "\n",
        "A uniform length of all the input vectors is created, that can be passed in the input layer of our LSTM model. We will also separate out the predictor features from the target labels.\n",
        "\n",
        "The features will be all values from the start, till the 2nd last value The target will be the final value in the given sequence\n"
      ],
      "metadata": {
        "id": "pD_FEju_CGJX"
      }
    },
    {
      "cell_type": "code",
      "source": [
        "s = pd.Series(inp_seq)"
      ],
      "metadata": {
        "id": "iOeYtMM-_11f"
      },
      "execution_count": null,
      "outputs": []
    },
    {
      "cell_type": "code",
      "source": [
        "max_length = np.max(s.apply(lambda x: len(x)))\n",
        "max_length"
      ],
      "metadata": {
        "colab": {
          "base_uri": "https://localhost:8080/"
        },
        "id": "kKXF3Yfc_3q4",
        "outputId": "89db844a-f16a-48e8-b366-2d029a83598f"
      },
      "execution_count": null,
      "outputs": [
        {
          "output_type": "execute_result",
          "data": {
            "text/plain": [
              "24"
            ]
          },
          "metadata": {},
          "execution_count": 22
        }
      ]
    },
    {
      "cell_type": "markdown",
      "source": [
        "Now, we proceed to create a uniform length of all the input vectors, that can be passed in the input layer of our LSTM model. We will also separate out the predictor features from the target labels.\n",
        "\n",
        "The features will be all values from the start, till the 2nd last value\n",
        "The target will be the final value in the given sequence"
      ],
      "metadata": {
        "id": "FXzbxZwLCMiL"
      }
    },
    {
      "cell_type": "code",
      "source": [
        "def padding(inp):\n",
        "    max_seq_len = max_length\n",
        "    inp_seq = np.array(pad_sequences(inp, maxlen=max_seq_len, padding='pre'))\n",
        "    features, target = inp_seq[:, :-1], inp_seq[:, -1]\n",
        "    target = ku.to_categorical(target, num_classes=vocab_size)\n",
        "    return features, target, max_seq_len\n",
        "\n",
        "features, target, max_seq_len = padding(inp_seq)"
      ],
      "metadata": {
        "id": "LMYRebvz_-C8"
      },
      "execution_count": null,
      "outputs": []
    },
    {
      "cell_type": "code",
      "source": [
        "features.shape"
      ],
      "metadata": {
        "colab": {
          "base_uri": "https://localhost:8080/"
        },
        "id": "ONRg32vNABoG",
        "outputId": "019542b9-d439-4fba-bd3e-41f58e0b10a0"
      },
      "execution_count": null,
      "outputs": [
        {
          "output_type": "execute_result",
          "data": {
            "text/plain": [
              "(51770, 23)"
            ]
          },
          "metadata": {},
          "execution_count": 24
        }
      ]
    },
    {
      "cell_type": "code",
      "source": [
        "target.shape"
      ],
      "metadata": {
        "colab": {
          "base_uri": "https://localhost:8080/"
        },
        "id": "ejdxYYm3AEps",
        "outputId": "c5fad742-89d8-4017-b113-e4d8925772a7"
      },
      "execution_count": null,
      "outputs": [
        {
          "output_type": "execute_result",
          "data": {
            "text/plain": [
              "(51770, 11265)"
            ]
          },
          "metadata": {},
          "execution_count": 25
        }
      ]
    },
    {
      "cell_type": "markdown",
      "source": [
        "\n",
        "RNN Model\n",
        "\n",
        "LSTMs have an additional state called ‘cell state’ through which the network makes adjustments in the information flow. The advantage of this state is that the model can remember or forget the leanings more selectively. To learn more about LSTMs, here is a great post. Lets architecture a LSTM model in our code. I have added total three layers in the model.\n",
        "\n",
        "Input Layer : Takes the sequence of words as input LSTM Layer : Computes the output using LSTM units. I have added 100 units in the layer, but this number can be fine tuned later. Dropout Layer : A regularisation layer which randomly turns-off the activations of some neurons in the LSTM layer. It helps in preventing over fitting. (Optional Layer) Output Layer : Computes the probability of the best possible next word as output We will run this model for total 100 epoochs but it can be experimented further.\n"
      ],
      "metadata": {
        "id": "X5LcUaMmXX8E"
      }
    },
    {
      "cell_type": "code",
      "source": [
        "model=Sequential()\n",
        "# We define max length - 1 as now our features have one column less (used as target label)\n",
        "model.add(Embedding(vocab_size, 10, input_length=max_seq_len-1))\n",
        "model.add(LSTM(100))\n",
        "model.add(Dropout(0.1))\n",
        "model.add(Dense(vocab_size, activation='softmax'))\n",
        "model.compile(loss='categorical_crossentropy', optimizer='adam')\n",
        "\n",
        "model.summary()"
      ],
      "metadata": {
        "colab": {
          "base_uri": "https://localhost:8080/"
        },
        "id": "46Ktngb2AG6X",
        "outputId": "f4315ffc-0546-4441-926d-6451a62ac700"
      },
      "execution_count": null,
      "outputs": [
        {
          "output_type": "stream",
          "name": "stdout",
          "text": [
            "Model: \"sequential\"\n",
            "_________________________________________________________________\n",
            " Layer (type)                Output Shape              Param #   \n",
            "=================================================================\n",
            " embedding (Embedding)       (None, 23, 10)            112650    \n",
            "                                                                 \n",
            " lstm (LSTM)                 (None, 100)               44400     \n",
            "                                                                 \n",
            " dropout (Dropout)           (None, 100)               0         \n",
            "                                                                 \n",
            " dense (Dense)               (None, 11265)             1137765   \n",
            "                                                                 \n",
            "=================================================================\n",
            "Total params: 1,294,815\n",
            "Trainable params: 1,294,815\n",
            "Non-trainable params: 0\n",
            "_________________________________________________________________\n"
          ]
        }
      ]
    },
    {
      "cell_type": "markdown",
      "source": [
        "\n",
        "Train the Model"
      ],
      "metadata": {
        "id": "IpRrw_S7Xhlj"
      }
    },
    {
      "cell_type": "code",
      "source": [
        "model.fit(features, target, epochs=30, verbose=5)"
      ],
      "metadata": {
        "colab": {
          "base_uri": "https://localhost:8080/"
        },
        "id": "5PnhdCkcAKjI",
        "outputId": "b3ee0aa6-fbc5-4496-f195-a0c1484731ae"
      },
      "execution_count": null,
      "outputs": [
        {
          "output_type": "stream",
          "name": "stdout",
          "text": [
            "Epoch 1/30\n",
            "Epoch 2/30\n",
            "Epoch 3/30\n",
            "Epoch 4/30\n",
            "Epoch 5/30\n",
            "Epoch 6/30\n",
            "Epoch 7/30\n",
            "Epoch 8/30\n",
            "Epoch 9/30\n",
            "Epoch 10/30\n",
            "Epoch 11/30\n",
            "Epoch 12/30\n",
            "Epoch 13/30\n",
            "Epoch 14/30\n",
            "Epoch 15/30\n",
            "Epoch 16/30\n",
            "Epoch 17/30\n",
            "Epoch 18/30\n",
            "Epoch 19/30\n",
            "Epoch 20/30\n",
            "Epoch 21/30\n",
            "Epoch 22/30\n",
            "Epoch 23/30\n",
            "Epoch 24/30\n",
            "Epoch 25/30\n",
            "Epoch 26/30\n",
            "Epoch 27/30\n",
            "Epoch 28/30\n",
            "Epoch 29/30\n",
            "Epoch 30/30\n"
          ]
        },
        {
          "output_type": "execute_result",
          "data": {
            "text/plain": [
              "<keras.callbacks.History at 0x7f145473e880>"
            ]
          },
          "metadata": {},
          "execution_count": 27
        }
      ]
    },
    {
      "cell_type": "markdown",
      "source": [
        "Prediction function"
      ],
      "metadata": {
        "id": "8p8UemcXCSA1"
      }
    },
    {
      "cell_type": "code",
      "source": [
        "def predictions(seed_text, next_words, model, max_seq):\n",
        "    for _ in range(next_words):\n",
        "        # Conver the seed text into tokens\n",
        "        token_list = tk.texts_to_sequences([seed_text])[0]\n",
        "        # Pad the seed text with seq-1 (as we only have features)\n",
        "        token_list = pad_sequences([token_list], maxlen=max_seq-1, padding='pre')\n",
        "        # Predict the class of the next word\n",
        "        predicted = np.argmax(model.predict(token_list),axis=1)        \n",
        "        \n",
        "        outputs = \"\"\n",
        "        # Iterate over the dictionary, to get the word\n",
        "        for word, index in tk.word_index.items():\n",
        "            if index==predicted:\n",
        "                output_word = word\n",
        "                break\n",
        "        # Add the word in the seed text, for the next prediction\n",
        "        seed_text = seed_text+\" \"+output_word\n",
        "    return seed_text.title()\n"
      ],
      "metadata": {
        "id": "44WSYZgeSqKX"
      },
      "execution_count": null,
      "outputs": []
    },
    {
      "cell_type": "code",
      "source": [
        "#predicted = np.argmax(model.predict(token_list),axis=1)\n",
        "print (predictions(\"united states\", 5, model, max_seq_len))\n",
        "print (predictions(\"preident trump\", 4, model, max_seq_len))\n",
        "print (predictions(\"donald trump\", 4, model, max_seq_len))\n",
        "print (predictions(\"india and china\", 4, model, max_seq_len))\n",
        "print (predictions(\"new york\", 4, model, max_seq_len))\n",
        "print (predictions(\"science and technology\", 5, model, max_seq_len))"
      ],
      "metadata": {
        "colab": {
          "base_uri": "https://localhost:8080/"
        },
        "id": "XbhfgGYzAR--",
        "outputId": "2d84ae25-51be-493a-df45-52650d68aa65"
      },
      "execution_count": null,
      "outputs": [
        {
          "output_type": "stream",
          "name": "stdout",
          "text": [
            "1/1 [==============================] - 1s 587ms/step\n",
            "1/1 [==============================] - 0s 35ms/step\n",
            "1/1 [==============================] - 0s 38ms/step\n",
            "1/1 [==============================] - 0s 44ms/step\n",
            "1/1 [==============================] - 0s 103ms/step\n",
            "United States Marred As Legal Carry On\n",
            "1/1 [==============================] - 0s 29ms/step\n",
            "1/1 [==============================] - 0s 49ms/step\n",
            "1/1 [==============================] - 0s 29ms/step\n",
            "1/1 [==============================] - 0s 68ms/step\n",
            "Preident Trump Is A Solution For\n",
            "1/1 [==============================] - 0s 92ms/step\n",
            "1/1 [==============================] - 0s 85ms/step\n",
            "1/1 [==============================] - 0s 54ms/step\n",
            "1/1 [==============================] - 0s 94ms/step\n",
            "Donald Trump Vs The Upper Upper\n",
            "1/1 [==============================] - 0s 35ms/step\n",
            "1/1 [==============================] - 0s 30ms/step\n",
            "1/1 [==============================] - 0s 39ms/step\n",
            "1/1 [==============================] - 0s 29ms/step\n",
            "India And China And Shift Over Border\n",
            "1/1 [==============================] - 0s 33ms/step\n",
            "1/1 [==============================] - 0s 20ms/step\n",
            "1/1 [==============================] - 0s 21ms/step\n",
            "1/1 [==============================] - 0s 19ms/step\n",
            "New York Today A Belated Trade\n",
            "1/1 [==============================] - 0s 19ms/step\n",
            "1/1 [==============================] - 0s 19ms/step\n",
            "1/1 [==============================] - 0s 19ms/step\n",
            "1/1 [==============================] - 0s 19ms/step\n",
            "1/1 [==============================] - 0s 20ms/step\n",
            "Science And Technology Grip The Disability Search Of\n"
          ]
        }
      ]
    },
    {
      "cell_type": "code",
      "source": [],
      "metadata": {
        "id": "UyTErlOhHQNb"
      },
      "execution_count": null,
      "outputs": []
    }
  ]
}