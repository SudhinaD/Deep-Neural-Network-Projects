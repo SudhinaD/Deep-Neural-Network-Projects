{
  "nbformat": 4,
  "nbformat_minor": 0,
  "metadata": {
    "colab": {
      "provenance": []
    },
    "kernelspec": {
      "name": "python3",
      "display_name": "Python 3"
    },
    "language_info": {
      "name": "python"
    }
  },
  "cells": [
    {
      "cell_type": "markdown",
      "source": [
        "Name: Sudhina D\n",
        "\n",
        "Batch: R3\n",
        "\n",
        "Date: 19-02-2023\n",
        "\n",
        "Experiment Name: Familiarization_with_TensorFlow"
      ],
      "metadata": {
        "id": "4AfSjAa4vfxP"
      }
    },
    {
      "cell_type": "code",
      "execution_count": null,
      "metadata": {
        "id": "3nSjFlYRtYyY"
      },
      "outputs": [],
      "source": []
    },
    {
      "cell_type": "markdown",
      "source": [
        "## Tensorflow\n",
        "\n",
        "TensorFlow is an open-source software library for building and training machine learning models. Developed by the Google Brain team, TensorFlow is designed to provide a flexible, scalable, and high-performance platform for a wide range of applications, from image and speech recognition to natural language processing and reinforcement learning.\n",
        "\n",
        "At its core, TensorFlow is a computational framework for building and executing dataflow graphs. These graphs are a set of nodes that represent mathematical operations, and edges that represent the data being passed between them. By representing computations as graphs, TensorFlow can take advantage of hardware accelerators like GPUs and TPUs to speed up training and inference.\n",
        "\n",
        "TensorFlow provides a wide range of tools and features for building and training models, including:\n",
        "\n",
        "High-level APIs like Keras, which provides a simple and intuitive way to build neural networks Low-level APIs for more advanced use cases, like customizing loss functions or implementing new layer types Built-in support for common tasks like data preprocessing, visualization, and distributed training A large and active community of developers who contribute to its development, provide support, and share their own models and techniques.\n",
        "\n",
        "Here is an example of a simple binary classification problem using TensorFlow in Python:"
      ],
      "metadata": {
        "id": "A6KlpcrfuiMo"
      }
    },
    {
      "cell_type": "code",
      "source": [
        "import tensorflow as tf\n",
        "import numpy as np"
      ],
      "metadata": {
        "id": "vpmxG_o3upFw"
      },
      "execution_count": null,
      "outputs": []
    },
    {
      "cell_type": "code",
      "source": [
        "# Generate random data\n",
        "X = np.random.rand(1000, 10)\n",
        "y = np.random.randint(2, size=1000)"
      ],
      "metadata": {
        "id": "MUqR3fdkusPx"
      },
      "execution_count": null,
      "outputs": []
    },
    {
      "cell_type": "markdown",
      "source": [
        "The first array X is a 2D array of shape (1000, 10), where each row represents a sample and each column represents a feature. The values in X are generated using NumPy's random.rand function, which returns an array of random numbers between 0 and 1.\n",
        "\n",
        "The second array Y is a 1D array of shape (1000,), where each element is a binary label (0 or 1) for the corresponding sample in X. The values in Y are generated using NumPy's random.randint function, which returns an array of random integers between 0 (inclusive) and 2 (exclusive).\n",
        "\n",
        "Together, these arrays can be used to train and evaluate a binary classification model, such as a logistic regression or a neural network."
      ],
      "metadata": {
        "id": "323G0BG8u0Qc"
      }
    },
    {
      "cell_type": "code",
      "source": [
        "# Define the model\n",
        "model = tf.keras.Sequential([\n",
        "  tf.keras.layers.Dense(16, activation='relu', input_shape=(10,)),\n",
        "  tf.keras.layers.Dense(1, activation='sigmoid')\n",
        "])"
      ],
      "metadata": {
        "id": "mUT65YW7uwMM"
      },
      "execution_count": null,
      "outputs": []
    },
    {
      "cell_type": "code",
      "source": [
        "# Compile the model\n",
        "model.compile(optimizer='adam',\n",
        "              loss='binary_crossentropy',\n",
        "              metrics=['accuracy'])"
      ],
      "metadata": {
        "id": "dyEq9-bju4ks"
      },
      "execution_count": null,
      "outputs": []
    },
    {
      "cell_type": "code",
      "source": [
        "# Train the model\n",
        "model.fit(X, y, epochs=20, batch_size=32)"
      ],
      "metadata": {
        "colab": {
          "base_uri": "https://localhost:8080/"
        },
        "id": "4STdVKsYu75h",
        "outputId": "4b33eed2-cabb-4d5e-e0d9-a44d4bcb6ce3"
      },
      "execution_count": null,
      "outputs": [
        {
          "output_type": "stream",
          "name": "stdout",
          "text": [
            "Epoch 1/20\n",
            "32/32 [==============================] - 3s 3ms/step - loss: 0.7142 - accuracy: 0.5120\n",
            "Epoch 2/20\n",
            "32/32 [==============================] - 0s 2ms/step - loss: 0.6997 - accuracy: 0.5150\n",
            "Epoch 3/20\n",
            "32/32 [==============================] - 0s 2ms/step - loss: 0.6980 - accuracy: 0.4880\n",
            "Epoch 4/20\n",
            "32/32 [==============================] - 0s 2ms/step - loss: 0.6973 - accuracy: 0.4940\n",
            "Epoch 5/20\n",
            "32/32 [==============================] - 0s 2ms/step - loss: 0.6958 - accuracy: 0.5010\n",
            "Epoch 6/20\n",
            "32/32 [==============================] - 0s 3ms/step - loss: 0.6950 - accuracy: 0.5100\n",
            "Epoch 7/20\n",
            "32/32 [==============================] - 0s 2ms/step - loss: 0.6942 - accuracy: 0.5090\n",
            "Epoch 8/20\n",
            "32/32 [==============================] - 0s 2ms/step - loss: 0.6935 - accuracy: 0.5170\n",
            "Epoch 9/20\n",
            "32/32 [==============================] - 0s 2ms/step - loss: 0.6930 - accuracy: 0.5260\n",
            "Epoch 10/20\n",
            "32/32 [==============================] - 0s 2ms/step - loss: 0.6926 - accuracy: 0.5180\n",
            "Epoch 11/20\n",
            "32/32 [==============================] - 0s 2ms/step - loss: 0.6924 - accuracy: 0.5320\n",
            "Epoch 12/20\n",
            "32/32 [==============================] - 0s 2ms/step - loss: 0.6911 - accuracy: 0.5390\n",
            "Epoch 13/20\n",
            "32/32 [==============================] - 0s 2ms/step - loss: 0.6910 - accuracy: 0.5370\n",
            "Epoch 14/20\n",
            "32/32 [==============================] - 0s 2ms/step - loss: 0.6912 - accuracy: 0.5290\n",
            "Epoch 15/20\n",
            "32/32 [==============================] - 0s 2ms/step - loss: 0.6903 - accuracy: 0.5340\n",
            "Epoch 16/20\n",
            "32/32 [==============================] - 0s 2ms/step - loss: 0.6897 - accuracy: 0.5390\n",
            "Epoch 17/20\n",
            "32/32 [==============================] - 0s 2ms/step - loss: 0.6895 - accuracy: 0.5410\n",
            "Epoch 18/20\n",
            "32/32 [==============================] - 0s 2ms/step - loss: 0.6897 - accuracy: 0.5380\n",
            "Epoch 19/20\n",
            "32/32 [==============================] - 0s 2ms/step - loss: 0.6888 - accuracy: 0.5450\n",
            "Epoch 20/20\n",
            "32/32 [==============================] - 0s 2ms/step - loss: 0.6886 - accuracy: 0.5360\n"
          ]
        },
        {
          "output_type": "execute_result",
          "data": {
            "text/plain": [
              "<keras.callbacks.History at 0x7fe40a1f1220>"
            ]
          },
          "metadata": {},
          "execution_count": 5
        }
      ]
    },
    {
      "cell_type": "code",
      "source": [
        "# Evaluate the model\n",
        "loss, acc = model.evaluate(X, y)\n",
        "print(\"Test accuracy: \", acc)"
      ],
      "metadata": {
        "colab": {
          "base_uri": "https://localhost:8080/"
        },
        "id": "VBRBwJUbu-zq",
        "outputId": "e5f7b60c-ca43-4dc3-846f-308515b3cc54"
      },
      "execution_count": null,
      "outputs": [
        {
          "output_type": "stream",
          "name": "stdout",
          "text": [
            "32/32 [==============================] - 1s 4ms/step - loss: 0.6882 - accuracy: 0.5380\n",
            "Test accuracy:  0.5379999876022339\n"
          ]
        }
      ]
    },
    {
      "cell_type": "markdown",
      "source": [
        "In this example, we first generate random data with 1000 samples of 10 features and binary labels. We then define a simple neural network with one hidden layer of 16 units with ReLU activation and an output layer with a single unit with sigmoid activation. We compile the model using binary cross-entropy as the loss function and accuracy as the evaluation metric. We train the model on the generated data for 10 epochs with a batch size of 32. Finally, we evaluate the model on the same data and print the test accuracy.\n",
        "\n",
        "This is a basic example, but the principles can be extended to more complex classification problems with larger datasets and deeper neural networks.\n",
        "\n"
      ],
      "metadata": {
        "id": "s7_QV2xYvH9a"
      }
    },
    {
      "cell_type": "code",
      "source": [],
      "metadata": {
        "id": "RGc5NH1JvDxE"
      },
      "execution_count": null,
      "outputs": []
    },
    {
      "cell_type": "markdown",
      "source": [],
      "metadata": {
        "id": "Y8LTIfMQveb1"
      }
    }
  ]
}