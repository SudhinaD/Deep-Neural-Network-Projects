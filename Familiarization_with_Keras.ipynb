{
  "nbformat": 4,
  "nbformat_minor": 0,
  "metadata": {
    "colab": {
      "provenance": []
    },
    "kernelspec": {
      "name": "python3",
      "display_name": "Python 3"
    },
    "language_info": {
      "name": "python"
    }
  },
  "cells": [
    {
      "cell_type": "markdown",
      "source": [
        "Keras is a high-level neural networks API that is written in Python and runs on top of TensorFlow, Theano, or CNTK. It was designed to be user-friendly, modular, and extensible, making it easier for developers to build and experiment with deep learning models.\n",
        "\n",
        "Keras provides a wide range of pre-built neural network layers, loss functions, and optimization algorithms. It also includes various utilities to simplify the process of working with large datasets, such as data preprocessing, data augmentation, and data visualization.\n",
        "\n",
        "Keras supports a variety of neural network architectures, including feedforward networks, convolutional networks, recurrent networks, and combinations of these. It also supports different kinds of learning tasks, such as classification, regression, and sequence prediction.\n",
        "\n",
        "In addition to its flexibility and ease of use, Keras also has a large community of developers who contribute to its development, provide support, and share their own models and techniques.\n",
        "\n",
        "Here is an example of a simple binary classification problem using Keras in Python:\n"
      ],
      "metadata": {
        "id": "NHe0f3Kg3W37"
      }
    },
    {
      "cell_type": "code",
      "source": [
        "import keras\n",
        "from keras.models import Sequential\n",
        "from keras.layers import Dense\n",
        "import numpy as np"
      ],
      "metadata": {
        "id": "Xg1BbMcNmNCq"
      },
      "execution_count": 1,
      "outputs": []
    },
    {
      "cell_type": "code",
      "source": [
        "# Generate random data\n",
        "X = np.random.rand(1000, 10)\n",
        "y = np.random.randint(2, size=1000)"
      ],
      "metadata": {
        "id": "5LFpr9ImmWP5"
      },
      "execution_count": 2,
      "outputs": []
    },
    {
      "cell_type": "markdown",
      "source": [
        "The first array X is a 2D array of shape (1000, 10), where each row represents a sample and each column represents a feature. The values in X are generated using NumPy's random.rand function, which returns an array of random numbers between 0 and 1.\n",
        "\n",
        "The second array Y is a 1D array of shape (1000,), where each element is a binary label (0 or 1) for the corresponding sample in X. The values in Y are generated using NumPy's random.randint function, which returns an array of random integers between 0 (inclusive) and 2 (exclusive).\n",
        "\n",
        "Together, these arrays can be used to train and evaluate a binary classification model, such as a logistic regression or a neural network."
      ],
      "metadata": {
        "id": "sBPJa5WFmbGh"
      }
    },
    {
      "cell_type": "code",
      "source": [
        "# Define the model\n",
        "model = Sequential()\n",
        "model.add(Dense(16, input_dim=10, activation='relu'))\n",
        "model.add(Dense(1, activation='sigmoid'))"
      ],
      "metadata": {
        "id": "-bpmHoeUmXzB"
      },
      "execution_count": 3,
      "outputs": []
    },
    {
      "cell_type": "code",
      "source": [
        "# Compile the model\n",
        "model.compile(loss='binary_crossentropy', optimizer='adam', metrics=['accuracy'])"
      ],
      "metadata": {
        "id": "2c5INwhImiVR"
      },
      "execution_count": 4,
      "outputs": []
    },
    {
      "cell_type": "code",
      "source": [
        "# Train the model\n",
        "model.fit(X, y, epochs=20, batch_size=32)"
      ],
      "metadata": {
        "colab": {
          "base_uri": "https://localhost:8080/"
        },
        "id": "C99PnM8umky5",
        "outputId": "cb16c70a-7771-4859-fcd6-7a6d52607c6f"
      },
      "execution_count": 7,
      "outputs": [
        {
          "output_type": "stream",
          "name": "stdout",
          "text": [
            "Epoch 1/20\n",
            "32/32 [==============================] - 0s 4ms/step - loss: 0.6916 - accuracy: 0.5250\n",
            "Epoch 2/20\n",
            "32/32 [==============================] - 0s 3ms/step - loss: 0.6910 - accuracy: 0.5330\n",
            "Epoch 3/20\n",
            "32/32 [==============================] - 0s 3ms/step - loss: 0.6905 - accuracy: 0.5440\n",
            "Epoch 4/20\n",
            "32/32 [==============================] - 0s 3ms/step - loss: 0.6899 - accuracy: 0.5410\n",
            "Epoch 5/20\n",
            "32/32 [==============================] - 0s 3ms/step - loss: 0.6896 - accuracy: 0.5490\n",
            "Epoch 6/20\n",
            "32/32 [==============================] - 0s 3ms/step - loss: 0.6893 - accuracy: 0.5380\n",
            "Epoch 7/20\n",
            "32/32 [==============================] - 0s 4ms/step - loss: 0.6885 - accuracy: 0.5530\n",
            "Epoch 8/20\n",
            "32/32 [==============================] - 0s 3ms/step - loss: 0.6880 - accuracy: 0.5540\n",
            "Epoch 9/20\n",
            "32/32 [==============================] - 0s 3ms/step - loss: 0.6877 - accuracy: 0.5590\n",
            "Epoch 10/20\n",
            "32/32 [==============================] - 0s 4ms/step - loss: 0.6875 - accuracy: 0.5630\n",
            "Epoch 11/20\n",
            "32/32 [==============================] - 0s 2ms/step - loss: 0.6874 - accuracy: 0.5520\n",
            "Epoch 12/20\n",
            "32/32 [==============================] - 0s 2ms/step - loss: 0.6872 - accuracy: 0.5540\n",
            "Epoch 13/20\n",
            "32/32 [==============================] - 0s 8ms/step - loss: 0.6866 - accuracy: 0.5600\n",
            "Epoch 14/20\n",
            "32/32 [==============================] - 0s 3ms/step - loss: 0.6864 - accuracy: 0.5620\n",
            "Epoch 15/20\n",
            "32/32 [==============================] - 0s 2ms/step - loss: 0.6859 - accuracy: 0.5700\n",
            "Epoch 16/20\n",
            "32/32 [==============================] - 0s 2ms/step - loss: 0.6858 - accuracy: 0.5660\n",
            "Epoch 17/20\n",
            "32/32 [==============================] - 0s 3ms/step - loss: 0.6852 - accuracy: 0.5680\n",
            "Epoch 18/20\n",
            "32/32 [==============================] - 0s 2ms/step - loss: 0.6849 - accuracy: 0.5700\n",
            "Epoch 19/20\n",
            "32/32 [==============================] - 0s 2ms/step - loss: 0.6851 - accuracy: 0.5670\n",
            "Epoch 20/20\n",
            "32/32 [==============================] - 0s 2ms/step - loss: 0.6842 - accuracy: 0.5740\n"
          ]
        },
        {
          "output_type": "execute_result",
          "data": {
            "text/plain": [
              "<keras.callbacks.History at 0x7f2d856a1280>"
            ]
          },
          "metadata": {},
          "execution_count": 7
        }
      ]
    },
    {
      "cell_type": "code",
      "source": [
        "# Evaluate the model\n",
        "loss, acc = model.evaluate(X, y)\n",
        "print(\"Test accuracy: \", acc)"
      ],
      "metadata": {
        "colab": {
          "base_uri": "https://localhost:8080/"
        },
        "id": "5Coa4BbCmn-Q",
        "outputId": "6540974c-6871-49ad-feda-80c233f1678f"
      },
      "execution_count": 8,
      "outputs": [
        {
          "output_type": "stream",
          "name": "stdout",
          "text": [
            "32/32 [==============================] - 0s 2ms/step - loss: 0.6837 - accuracy: 0.5840\n",
            "Test accuracy:  0.5839999914169312\n"
          ]
        }
      ]
    },
    {
      "cell_type": "markdown",
      "source": [
        "In this example, we first generate random data with 1000 samples of 10 features and binary labels. We then define a simple neural network with one hidden layer of 16 units with ReLU activation and an output layer with a single unit with sigmoid activation. We compile the model using binary cross-entropy as the loss function and accuracy as the evaluation metric. We train the model on the generated data for 10 epochs with a batch size of 32. Finally, we evaluate the model on the same data and print the test accuracy.\n",
        "\n",
        "Keras is a high-level API that runs on top of TensorFlow, and it provides a simple and intuitive way to build and train neural networks. The principles in this example can be extended to more complex classification problems with larger datasets and deeper neural networks."
      ],
      "metadata": {
        "id": "__yJANgqm2w4"
      }
    }
  ]
}