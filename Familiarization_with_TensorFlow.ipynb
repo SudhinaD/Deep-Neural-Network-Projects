{
  "nbformat": 4,
  "nbformat_minor": 0,
  "metadata": {
    "colab": {
      "provenance": []
    },
    "kernelspec": {
      "name": "python3",
      "display_name": "Python 3"
    },
    "language_info": {
      "name": "python"
    }
  },
  "cells": [
    {
      "cell_type": "markdown",
      "source": [
        "TensorFlow is an open-source software library for building and training machine learning models. Developed by the Google Brain team, TensorFlow is designed to provide a flexible, scalable, and high-performance platform for a wide range of applications, from image and speech recognition to natural language processing and reinforcement learning.\n",
        "\n",
        "At its core, TensorFlow is a computational framework for building and executing dataflow graphs. These graphs are a set of nodes that represent mathematical operations, and edges that represent the data being passed between them. By representing computations as graphs, TensorFlow can take advantage of hardware accelerators like GPUs and TPUs to speed up training and inference.\n",
        "\n",
        "TensorFlow provides a wide range of tools and features for building and training models, including:\n",
        "\n",
        "High-level APIs like Keras, which provides a simple and intuitive way to build neural networks\n",
        "Low-level APIs for more advanced use cases, like customizing loss functions or implementing new layer types\n",
        "Built-in support for common tasks like data preprocessing, visualization, and distributed training\n",
        "A large and active community of developers who contribute to its development, provide support, and share their own models and techniques.\n",
        "\n",
        "Here is an example of a simple binary classification problem using TensorFlow in Python:"
      ],
      "metadata": {
        "id": "AKpLFI6KhgY4"
      }
    },
    {
      "cell_type": "code",
      "execution_count": 2,
      "metadata": {
        "id": "rVqGtpTpdv1E"
      },
      "outputs": [],
      "source": [
        "import tensorflow as tf\n",
        "import numpy as np"
      ]
    },
    {
      "cell_type": "code",
      "source": [
        "# Generate random data\n",
        "X = np.random.rand(1000, 10)\n",
        "y = np.random.randint(2, size=1000)"
      ],
      "metadata": {
        "id": "8erBnzLfe6Bz"
      },
      "execution_count": 3,
      "outputs": []
    },
    {
      "cell_type": "markdown",
      "source": [
        "The first array X is a 2D array of shape (1000, 10), where each row represents a sample and each column represents a feature. The values in X are generated using NumPy's random.rand function, which returns an array of random numbers between 0 and 1.\n",
        "\n",
        "The second array Y is a 1D array of shape (1000,), where each element is a binary label (0 or 1) for the corresponding sample in X. The values in Y are generated using NumPy's random.randint function, which returns an array of random integers between 0 (inclusive) and 2 (exclusive).\n",
        "\n",
        "Together, these arrays can be used to train and evaluate a binary classification model, such as a logistic regression or a neural network."
      ],
      "metadata": {
        "id": "PNrc00gDi_xk"
      }
    },
    {
      "cell_type": "code",
      "source": [
        "# Define the model\n",
        "model = tf.keras.Sequential([\n",
        "  tf.keras.layers.Dense(16, activation='relu', input_shape=(10,)),\n",
        "  tf.keras.layers.Dense(1, activation='sigmoid')\n",
        "])"
      ],
      "metadata": {
        "id": "CeHPKQAKe82K"
      },
      "execution_count": 4,
      "outputs": []
    },
    {
      "cell_type": "code",
      "source": [
        "# Compile the model\n",
        "model.compile(optimizer='adam',\n",
        "              loss='binary_crossentropy',\n",
        "              metrics=['accuracy'])"
      ],
      "metadata": {
        "id": "LhQKWXICe_0T"
      },
      "execution_count": 5,
      "outputs": []
    },
    {
      "cell_type": "code",
      "source": [
        "# Train the model\n",
        "model.fit(X, y, epochs=20, batch_size=32)"
      ],
      "metadata": {
        "colab": {
          "base_uri": "https://localhost:8080/"
        },
        "id": "U33vqcTJfDg5",
        "outputId": "b4a410f6-d1d4-40a8-fe78-1e4fee192789"
      },
      "execution_count": 8,
      "outputs": [
        {
          "output_type": "stream",
          "name": "stdout",
          "text": [
            "Epoch 1/20\n",
            "32/32 [==============================] - 0s 1ms/step - loss: 0.6901 - accuracy: 0.5350\n",
            "Epoch 2/20\n",
            "32/32 [==============================] - 0s 1ms/step - loss: 0.6899 - accuracy: 0.5270\n",
            "Epoch 3/20\n",
            "32/32 [==============================] - 0s 1ms/step - loss: 0.6899 - accuracy: 0.5200\n",
            "Epoch 4/20\n",
            "32/32 [==============================] - 0s 1ms/step - loss: 0.6894 - accuracy: 0.5160\n",
            "Epoch 5/20\n",
            "32/32 [==============================] - 0s 1ms/step - loss: 0.6897 - accuracy: 0.5350\n",
            "Epoch 6/20\n",
            "32/32 [==============================] - 0s 1ms/step - loss: 0.6897 - accuracy: 0.5290\n",
            "Epoch 7/20\n",
            "32/32 [==============================] - 0s 1ms/step - loss: 0.6897 - accuracy: 0.5390\n",
            "Epoch 8/20\n",
            "32/32 [==============================] - 0s 1ms/step - loss: 0.6890 - accuracy: 0.5330\n",
            "Epoch 9/20\n",
            "32/32 [==============================] - 0s 1ms/step - loss: 0.6886 - accuracy: 0.5240\n",
            "Epoch 10/20\n",
            "32/32 [==============================] - 0s 1ms/step - loss: 0.6886 - accuracy: 0.5360\n",
            "Epoch 11/20\n",
            "32/32 [==============================] - 0s 1ms/step - loss: 0.6883 - accuracy: 0.5220\n",
            "Epoch 12/20\n",
            "32/32 [==============================] - 0s 1ms/step - loss: 0.6879 - accuracy: 0.5270\n",
            "Epoch 13/20\n",
            "32/32 [==============================] - 0s 1ms/step - loss: 0.6881 - accuracy: 0.5310\n",
            "Epoch 14/20\n",
            "32/32 [==============================] - 0s 1ms/step - loss: 0.6876 - accuracy: 0.5250\n",
            "Epoch 15/20\n",
            "32/32 [==============================] - 0s 1ms/step - loss: 0.6876 - accuracy: 0.5330\n",
            "Epoch 16/20\n",
            "32/32 [==============================] - 0s 1ms/step - loss: 0.6874 - accuracy: 0.5290\n",
            "Epoch 17/20\n",
            "32/32 [==============================] - 0s 1ms/step - loss: 0.6874 - accuracy: 0.5420\n",
            "Epoch 18/20\n",
            "32/32 [==============================] - 0s 1ms/step - loss: 0.6871 - accuracy: 0.5370\n",
            "Epoch 19/20\n",
            "32/32 [==============================] - 0s 1ms/step - loss: 0.6868 - accuracy: 0.5350\n",
            "Epoch 20/20\n",
            "32/32 [==============================] - 0s 1ms/step - loss: 0.6866 - accuracy: 0.5330\n"
          ]
        },
        {
          "output_type": "execute_result",
          "data": {
            "text/plain": [
              "<keras.callbacks.History at 0x7faf9365edf0>"
            ]
          },
          "metadata": {},
          "execution_count": 8
        }
      ]
    },
    {
      "cell_type": "code",
      "source": [
        "# Evaluate the model\n",
        "loss, acc = model.evaluate(X, y)\n",
        "print(\"Test accuracy: \", acc)"
      ],
      "metadata": {
        "colab": {
          "base_uri": "https://localhost:8080/"
        },
        "id": "vsBbhgtXfI50",
        "outputId": "697c3fd5-06db-4f7b-cc09-d876824671fd"
      },
      "execution_count": 9,
      "outputs": [
        {
          "output_type": "stream",
          "name": "stdout",
          "text": [
            "32/32 [==============================] - 0s 1ms/step - loss: 0.6862 - accuracy: 0.5380\n",
            "Test accuracy:  0.5379999876022339\n"
          ]
        }
      ]
    },
    {
      "cell_type": "markdown",
      "source": [
        "In this example, we first generate random data with 1000 samples of 10 features and binary labels. We then define a simple neural network with one hidden layer of 16 units with ReLU activation and an output layer with a single unit with sigmoid activation. We compile the model using binary cross-entropy as the loss function and accuracy as the evaluation metric. We train the model on the generated data for 10 epochs with a batch size of 32. Finally, we evaluate the model on the same data and print the test accuracy.\n",
        "\n",
        "This is a basic example, but the principles can be extended to more complex classification problems with larger datasets and deeper neural networks.\n",
        "\n",
        "\n",
        "\t\n"
      ],
      "metadata": {
        "id": "Xv4ShjnFfgWh"
      }
    }
  ]
}